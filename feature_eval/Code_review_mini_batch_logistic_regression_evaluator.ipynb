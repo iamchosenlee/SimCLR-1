{
  "nbformat": 4,
  "nbformat_minor": 0,
  "metadata": {
    "kernelspec": {
      "display_name": "pytorch",
      "language": "python",
      "name": "pytorch"
    },
    "language_info": {
      "codemirror_mode": {
        "name": "ipython",
        "version": 3
      },
      "file_extension": ".py",
      "mimetype": "text/x-python",
      "name": "python",
      "nbconvert_exporter": "python",
      "pygments_lexer": "ipython3",
      "version": "3.6.6"
    },
    "colab": {
      "name": "Copy of mini-batch-logistic-regression-evaluator.ipynb",
      "provenance": [],
      "toc_visible": true,
      "include_colab_link": true
    },
    "accelerator": "GPU"
  },
  "cells": [
    {
      "cell_type": "markdown",
      "metadata": {
        "id": "view-in-github",
        "colab_type": "text"
      },
      "source": [
        "<a href=\"https://colab.research.google.com/github/iamchosenlee/SimCLR-1/blob/master/feature_eval/Code_review_mini_batch_logistic_regression_evaluator.ipynb\" target=\"_parent\"><img src=\"https://colab.research.google.com/assets/colab-badge.svg\" alt=\"Open In Colab\"/></a>"
      ]
    },
    {
      "cell_type": "markdown",
      "metadata": {
        "id": "5OJ-BODvGtyJ"
      },
      "source": [
        "# A Simple Framework for Contrastive Learning of Visual Representations [SimCLR](https://arxiv.org/pdf/2002.05709.pdf)\n",
        "\n",
        "### 1. Composition of **data augmentations** plays a critical role in defining effective predictive tasks\n",
        "[Data Augmentation Code](https://github.com/iamchosenlee/SimCLR-1/blob/1848fc934ad844ae630e6c452300433fe99acfd9/data_aug/contrastive_learning_dataset.py#L13)\n",
        "\n",
        "### 2. Introducing a learnable nonlinear transformation between the representation and the contrastive loss substantially improves the quality of the learned representations\n",
        "[Projection head g( ) Code](https://github.com/iamchosenlee/SimCLR-1/blob/1848fc934ad844ae630e6c452300433fe99acfd9/models/resnet_simclr.py#L7)\n",
        "\n",
        "[InfoNCE loss Code](https://github.com/iamchosenlee/SimCLR-1/blob/24fe33dc547928f2be0d4a294b77caf246ac1eb8/simclr.py#L26)\n",
        "\n",
        "### 3. Contrastive learning benefits from larger batch sizes and more training steps compared to supervised learning\n",
        "Let's see the evaluation demo below."
      ]
    },
    {
      "cell_type": "code",
      "metadata": {
        "id": "YUemQib7ZE4D"
      },
      "source": [
        "import torch\n",
        "import sys\n",
        "import numpy as np\n",
        "import os\n",
        "import yaml\n",
        "import matplotlib.pyplot as plt\n",
        "import torchvision"
      ],
      "execution_count": null,
      "outputs": []
    },
    {
      "cell_type": "code",
      "metadata": {
        "id": "WSgRE1CcLqdS"
      },
      "source": [
        "!pip install gdown"
      ],
      "execution_count": null,
      "outputs": []
    },
    {
      "cell_type": "code",
      "metadata": {
        "id": "NOIJEui1ZziV"
      },
      "source": [
        "def get_file_id_by_model(folder_name):\n",
        "  file_id = {'resnet18_100-epochs_stl10': '14_nH2FkyKbt61cieQDiSbBVNP8-gtwgF',\n",
        "             'resnet18_100-epochs_cifar10': '1lc2aoVtrAetGn0PnTkOyFzPCIucOJq7C',\n",
        "             'resnet50_50-epochs_stl10': '1ByTKAUsdm_X7tLcii6oAEl5qFRqRMZSu'}\n",
        "  return file_id.get(folder_name, \"Model not found.\")"
      ],
      "execution_count": null,
      "outputs": []
    },
    {
      "cell_type": "code",
      "metadata": {
        "id": "G7YMxsvEZMrX"
      },
      "source": [
        "folder_name = 'resnet18_100-epochs_stl10'\n",
        "file_id = get_file_id_by_model(folder_name)\n",
        "print(folder_name, file_id)"
      ],
      "execution_count": null,
      "outputs": []
    },
    {
      "cell_type": "code",
      "metadata": {
        "id": "PWZ8fet_YoJm"
      },
      "source": [
        "# download and extract model files\n",
        "os.system('gdown https://drive.google.com/uc?id={}'.format(file_id))\n",
        "os.system('unzip {}'.format(folder_name))\n",
        "!ls"
      ],
      "execution_count": null,
      "outputs": []
    },
    {
      "cell_type": "code",
      "metadata": {
        "id": "3_nypQVEv-hn"
      },
      "source": [
        "from torch.utils.data import DataLoader\n",
        "import torchvision.transforms as transforms\n",
        "from torchvision import datasets"
      ],
      "execution_count": null,
      "outputs": []
    },
    {
      "cell_type": "code",
      "metadata": {
        "id": "lDfbL3w_Z0Od"
      },
      "source": [
        "device = 'cuda' if torch.cuda.is_available() else 'cpu'\n",
        "print(\"Using device:\", device)"
      ],
      "execution_count": null,
      "outputs": []
    },
    {
      "cell_type": "code",
      "metadata": {
        "id": "BfIPl0G6_RrT"
      },
      "source": [
        "def get_stl10_data_loaders(download, batch_size=256):\n",
        "  train_dataset = datasets.STL10('./data', split='train', download=download,\n",
        "                                  transform=transforms.ToTensor())\n",
        "\n",
        "  train_loader = DataLoader(train_dataset, batch_size=batch_size,\n",
        "                            num_workers=10, drop_last=False, shuffle=True)\n",
        "  \n",
        "  test_dataset = datasets.STL10('./data', split='test', download=download,\n",
        "                                  transform=transforms.ToTensor())\n",
        "\n",
        "  test_loader = DataLoader(test_dataset, batch_size=2*batch_size,\n",
        "                            num_workers=10, drop_last=False, shuffle=False)\n",
        "  return train_loader, test_loader\n",
        "\n",
        "def get_cifar10_data_loaders(download, shuffle=False, batch_size=256):\n",
        "  train_dataset = datasets.CIFAR10('./data', train=True, download=download,\n",
        "                                  transform=transforms.ToTensor())\n",
        "\n",
        "  train_loader = DataLoader(train_dataset, batch_size=batch_size,\n",
        "                            num_workers=10, drop_last=False, shuffle=True)\n",
        "  \n",
        "  test_dataset = datasets.CIFAR10('./data', train=False, download=download,\n",
        "                                  transform=transforms.ToTensor())\n",
        "\n",
        "  test_loader = DataLoader(test_dataset, batch_size=2*batch_size,\n",
        "                            num_workers=10, drop_last=False, shuffle=False)\n",
        "  return train_loader, test_loader"
      ],
      "execution_count": null,
      "outputs": []
    },
    {
      "cell_type": "code",
      "metadata": {
        "id": "6N8lYkbmDTaK"
      },
      "source": [
        "with open(os.path.join('./config.yml')) as file:\n",
        "  config = yaml.load(file)"
      ],
      "execution_count": null,
      "outputs": []
    },
    {
      "cell_type": "code",
      "metadata": {
        "id": "a18lPD-tIle6"
      },
      "source": [
        "if config.arch == 'resnet18':\n",
        "  model = torchvision.models.resnet18(pretrained=False, num_classes=10).to(device)\n",
        "elif config.arch == 'resnet50':\n",
        "  model = torchvision.models.resnet50(pretrained=False, num_classes=10).to(device)"
      ],
      "execution_count": null,
      "outputs": []
    },
    {
      "cell_type": "code",
      "metadata": {
        "id": "4AIfgq41GuTT"
      },
      "source": [
        "checkpoint = torch.load('checkpoint_0100.pth.tar', map_location=device)\n",
        "state_dict = checkpoint['state_dict']\n",
        "\n",
        "for k in list(state_dict.keys()):\n",
        "\n",
        "  if k.startswith('backbone.'):\n",
        "    if k.startswith('backbone') and not k.startswith('backbone.fc'):\n",
        "      # remove prefix\n",
        "      state_dict[k[len(\"backbone.\"):]] = state_dict[k]\n",
        "  del state_dict[k]"
      ],
      "execution_count": null,
      "outputs": []
    },
    {
      "cell_type": "code",
      "metadata": {
        "id": "VVjA83PPJYWl"
      },
      "source": [
        "log = model.load_state_dict(state_dict, strict=False)\n",
        "assert log.missing_keys == ['fc.weight', 'fc.bias']"
      ],
      "execution_count": null,
      "outputs": []
    },
    {
      "cell_type": "code",
      "metadata": {
        "id": "_GC0a14uWRr6"
      },
      "source": [
        "if config.dataset_name == 'cifar10':\n",
        "  train_loader, test_loader = get_cifar10_data_loaders(download=True)\n",
        "elif config.dataset_name == 'stl10':\n",
        "  train_loader, test_loader = get_stl10_data_loaders(download=True)\n",
        "print(\"Dataset:\", config.dataset_name)"
      ],
      "execution_count": null,
      "outputs": []
    },
    {
      "cell_type": "code",
      "metadata": {
        "id": "pYT_KsM0Mnnr"
      },
      "source": [
        "# freeze all layers but the last fc\n",
        "for name, param in model.named_parameters():\n",
        "    if name not in ['fc.weight', 'fc.bias']:\n",
        "        param.requires_grad = False\n",
        "\n",
        "parameters = list(filter(lambda p: p.requires_grad, model.parameters()))\n",
        "assert len(parameters) == 2  # fc.weight, fc.bias"
      ],
      "execution_count": null,
      "outputs": []
    },
    {
      "cell_type": "code",
      "metadata": {
        "id": "aPVh1S_eMRDU"
      },
      "source": [
        "optimizer = torch.optim.Adam(model.parameters(), lr=0.0003, weight_decay=0.0008)\n",
        "criterion = torch.nn.CrossEntropyLoss().to(device)"
      ],
      "execution_count": null,
      "outputs": []
    },
    {
      "cell_type": "code",
      "metadata": {
        "id": "edr6RhP2PdVq"
      },
      "source": [
        "def accuracy(output, target, topk=(1,)):\n",
        "    \"\"\"Computes the accuracy over the k top predictions for the specified values of k\"\"\"\n",
        "    with torch.no_grad():\n",
        "        maxk = max(topk)\n",
        "        batch_size = target.size(0)\n",
        "\n",
        "        _, pred = output.topk(maxk, 1, True, True)\n",
        "        pred = pred.t()\n",
        "        correct = pred.eq(target.view(1, -1).expand_as(pred))\n",
        "\n",
        "        res = []\n",
        "        for k in topk:\n",
        "            correct_k = correct[:k].reshape(-1).float().sum(0, keepdim=True)\n",
        "            res.append(correct_k.mul_(100.0 / batch_size))\n",
        "        return res"
      ],
      "execution_count": null,
      "outputs": []
    },
    {
      "cell_type": "code",
      "metadata": {
        "id": "qOder0dAMI7X",
        "colab": {
          "base_uri": "https://localhost:8080/"
        },
        "outputId": "2eaa52ef-c634-46e3-e6a1-031a09c40c65"
      },
      "source": [
        "epochs = 100\n",
        "for epoch in range(epochs):\n",
        "  top1_train_accuracy = 0\n",
        "  for counter, (x_batch, y_batch) in enumerate(train_loader):\n",
        "    x_batch = x_batch.to(device)\n",
        "    y_batch = y_batch.to(device)\n",
        "\n",
        "    logits = model(x_batch)\n",
        "    loss = criterion(logits, y_batch)\n",
        "    \n",
        "    top1 = accuracy(logits, y_batch, topk=(1,))\n",
        "    top1_train_accuracy += top1[0]\n",
        "\n",
        "    optimizer.zero_grad()\n",
        "    loss.backward()\n",
        "    optimizer.step()\n",
        "\n",
        "  top1_train_accuracy /= (counter + 1)\n",
        "  top1_accuracy = 0\n",
        "  top5_accuracy = 0\n",
        "  for counter, (x_batch, y_batch) in enumerate(test_loader):\n",
        "    x_batch = x_batch.to(device)\n",
        "    y_batch = y_batch.to(device)\n",
        "\n",
        "    logits = model(x_batch)\n",
        "  \n",
        "    top1, top5 = accuracy(logits, y_batch, topk=(1,5))\n",
        "    top1_accuracy += top1[0]\n",
        "    top5_accuracy += top5[0]\n",
        "  \n",
        "  top1_accuracy /= (counter + 1)\n",
        "  top5_accuracy /= (counter + 1)\n",
        "  print(f\"Epoch {epoch}\\tTop1 Train accuracy {top1_train_accuracy.item()}\\tTop1 Test accuracy: {top1_accuracy.item()}\\tTop5 test acc: {top5_accuracy.item()}\")"
      ],
      "execution_count": null,
      "outputs": [
        {
          "metadata": {
            "tags": null
          },
          "name": "stderr",
          "output_type": "stream",
          "text": [
            "/usr/local/lib/python3.7/dist-packages/torch/utils/data/dataloader.py:481: UserWarning: This DataLoader will create 10 worker processes in total. Our suggested max number of worker in current system is 2, which is smaller than what this DataLoader is going to create. Please be aware that excessive worker creation might get DataLoader running slow or even freeze, lower the worker number to avoid potential slowness/freeze if necessary.\n",
            "  cpuset_checked))\n",
            "/usr/local/lib/python3.7/dist-packages/torch/nn/functional.py:718: UserWarning: Named tensors and all their associated APIs are an experimental feature and subject to change. Please do not use them for anything important until they are released as stable. (Triggered internally at  /pytorch/c10/core/TensorImpl.h:1156.)\n",
            "  return torch.max_pool2d(input, kernel_size, stride, padding, dilation, ceil_mode)\n"
          ]
        },
        {
          "output_type": "stream",
          "name": "stdout",
          "text": [
            "Epoch 0\tTop1 Train accuracy 24.723115921020508\tTop1 Test accuracy: 33.6181640625\tTop5 test acc: 87.08740234375\n",
            "Epoch 1\tTop1 Train accuracy 38.58915328979492\tTop1 Test accuracy: 44.5654296875\tTop5 test acc: 93.26416015625\n",
            "Epoch 2\tTop1 Train accuracy 49.10386276245117\tTop1 Test accuracy: 52.39013671875\tTop5 test acc: 95.1318359375\n",
            "Epoch 3\tTop1 Train accuracy 54.064796447753906\tTop1 Test accuracy: 55.27099609375\tTop5 test acc: 96.0107421875\n",
            "Epoch 4\tTop1 Train accuracy 57.8791389465332\tTop1 Test accuracy: 58.330078125\tTop5 test acc: 96.64794921875\n",
            "Epoch 5\tTop1 Train accuracy 59.261260986328125\tTop1 Test accuracy: 59.5263671875\tTop5 test acc: 96.76513671875\n",
            "Epoch 6\tTop1 Train accuracy 60.80652618408203\tTop1 Test accuracy: 60.65185546875\tTop5 test acc: 96.88720703125\n",
            "Epoch 7\tTop1 Train accuracy 61.45565414428711\tTop1 Test accuracy: 61.33056640625\tTop5 test acc: 97.12158203125\n",
            "Epoch 8\tTop1 Train accuracy 61.80951690673828\tTop1 Test accuracy: 61.71142578125\tTop5 test acc: 97.0703125\n",
            "Epoch 9\tTop1 Train accuracy 62.799861907958984\tTop1 Test accuracy: 62.33154296875\tTop5 test acc: 97.16064453125\n",
            "Epoch 10\tTop1 Train accuracy 63.22150802612305\tTop1 Test accuracy: 62.66357421875\tTop5 test acc: 97.1484375\n",
            "Epoch 11\tTop1 Train accuracy 63.74081039428711\tTop1 Test accuracy: 62.84423828125\tTop5 test acc: 97.2216796875\n",
            "Epoch 12\tTop1 Train accuracy 64.47380828857422\tTop1 Test accuracy: 63.10302734375\tTop5 test acc: 97.314453125\n",
            "Epoch 13\tTop1 Train accuracy 64.28194427490234\tTop1 Test accuracy: 63.232421875\tTop5 test acc: 97.3388671875\n",
            "Epoch 14\tTop1 Train accuracy 64.46920776367188\tTop1 Test accuracy: 63.564453125\tTop5 test acc: 97.32666015625\n",
            "Epoch 15\tTop1 Train accuracy 65.03446960449219\tTop1 Test accuracy: 63.8623046875\tTop5 test acc: 97.3388671875\n",
            "Epoch 16\tTop1 Train accuracy 65.0608901977539\tTop1 Test accuracy: 64.0576171875\tTop5 test acc: 97.39990234375\n",
            "Epoch 17\tTop1 Train accuracy 65.94898986816406\tTop1 Test accuracy: 64.32373046875\tTop5 test acc: 97.4609375\n",
            "Epoch 18\tTop1 Train accuracy 66.31548309326172\tTop1 Test accuracy: 64.453125\tTop5 test acc: 97.49267578125\n",
            "Epoch 19\tTop1 Train accuracy 66.14430236816406\tTop1 Test accuracy: 64.64599609375\tTop5 test acc: 97.54150390625\n",
            "Epoch 20\tTop1 Train accuracy 65.84099578857422\tTop1 Test accuracy: 64.8583984375\tTop5 test acc: 97.51708984375\n",
            "Epoch 21\tTop1 Train accuracy 66.65670776367188\tTop1 Test accuracy: 65.04150390625\tTop5 test acc: 97.5341796875\n",
            "Epoch 22\tTop1 Train accuracy 66.69921875\tTop1 Test accuracy: 65.009765625\tTop5 test acc: 97.578125\n",
            "Epoch 23\tTop1 Train accuracy 67.03585052490234\tTop1 Test accuracy: 65.20751953125\tTop5 test acc: 97.51708984375\n",
            "Epoch 24\tTop1 Train accuracy 66.84168243408203\tTop1 Test accuracy: 65.439453125\tTop5 test acc: 97.578125\n",
            "Epoch 25\tTop1 Train accuracy 67.2265625\tTop1 Test accuracy: 65.59814453125\tTop5 test acc: 97.61474609375\n",
            "Epoch 26\tTop1 Train accuracy 67.28975677490234\tTop1 Test accuracy: 65.67626953125\tTop5 test acc: 97.6025390625\n",
            "Epoch 27\tTop1 Train accuracy 67.07491302490234\tTop1 Test accuracy: 65.69091796875\tTop5 test acc: 97.63916015625\n",
            "Epoch 28\tTop1 Train accuracy 67.43681335449219\tTop1 Test accuracy: 65.849609375\tTop5 test acc: 97.61474609375\n",
            "Epoch 29\tTop1 Train accuracy 67.48162078857422\tTop1 Test accuracy: 66.10595703125\tTop5 test acc: 97.626953125\n",
            "Epoch 30\tTop1 Train accuracy 68.28240203857422\tTop1 Test accuracy: 66.044921875\tTop5 test acc: 97.68798828125\n",
            "Epoch 31\tTop1 Train accuracy 68.04342651367188\tTop1 Test accuracy: 66.16455078125\tTop5 test acc: 97.63916015625\n",
            "Epoch 32\tTop1 Train accuracy 68.29273986816406\tTop1 Test accuracy: 66.25\tTop5 test acc: 97.724609375\n",
            "Epoch 33\tTop1 Train accuracy 67.93657684326172\tTop1 Test accuracy: 66.31103515625\tTop5 test acc: 97.7490234375\n",
            "Epoch 34\tTop1 Train accuracy 68.16291809082031\tTop1 Test accuracy: 66.39892578125\tTop5 test acc: 97.7734375\n",
            "Epoch 35\tTop1 Train accuracy 68.33525085449219\tTop1 Test accuracy: 66.494140625\tTop5 test acc: 97.73681640625\n",
            "Epoch 36\tTop1 Train accuracy 68.45014190673828\tTop1 Test accuracy: 66.42578125\tTop5 test acc: 97.822265625\n",
            "Epoch 37\tTop1 Train accuracy 69.00735473632812\tTop1 Test accuracy: 66.76025390625\tTop5 test acc: 97.7978515625\n",
            "Epoch 38\tTop1 Train accuracy 68.98323059082031\tTop1 Test accuracy: 66.69677734375\tTop5 test acc: 97.7978515625\n",
            "Epoch 39\tTop1 Train accuracy 69.00965118408203\tTop1 Test accuracy: 66.71630859375\tTop5 test acc: 97.7734375\n",
            "Epoch 40\tTop1 Train accuracy 68.82123565673828\tTop1 Test accuracy: 66.84326171875\tTop5 test acc: 97.7978515625\n",
            "Epoch 41\tTop1 Train accuracy 68.95909881591797\tTop1 Test accuracy: 66.904296875\tTop5 test acc: 97.85888671875\n",
            "Epoch 42\tTop1 Train accuracy 69.14867401123047\tTop1 Test accuracy: 67.05078125\tTop5 test acc: 97.87109375\n",
            "Epoch 43\tTop1 Train accuracy 69.07628631591797\tTop1 Test accuracy: 67.138671875\tTop5 test acc: 97.88330078125\n",
            "Epoch 44\tTop1 Train accuracy 69.37385559082031\tTop1 Test accuracy: 67.2509765625\tTop5 test acc: 97.85888671875\n",
            "Epoch 45\tTop1 Train accuracy 69.53929901123047\tTop1 Test accuracy: 67.33154296875\tTop5 test acc: 97.93212890625\n",
            "Epoch 46\tTop1 Train accuracy 69.5921401977539\tTop1 Test accuracy: 67.412109375\tTop5 test acc: 97.85888671875\n",
            "Epoch 47\tTop1 Train accuracy 69.87706756591797\tTop1 Test accuracy: 67.35107421875\tTop5 test acc: 97.85888671875\n",
            "Epoch 48\tTop1 Train accuracy 70.12178802490234\tTop1 Test accuracy: 67.4853515625\tTop5 test acc: 97.939453125\n",
            "Epoch 49\tTop1 Train accuracy 70.05170440673828\tTop1 Test accuracy: 67.5244140625\tTop5 test acc: 97.90771484375\n",
            "Epoch 50\tTop1 Train accuracy 70.09420776367188\tTop1 Test accuracy: 67.5244140625\tTop5 test acc: 97.8955078125\n",
            "Epoch 51\tTop1 Train accuracy 70.03446960449219\tTop1 Test accuracy: 67.66357421875\tTop5 test acc: 97.95654296875\n",
            "Epoch 52\tTop1 Train accuracy 69.99425506591797\tTop1 Test accuracy: 67.7490234375\tTop5 test acc: 97.9638671875\n",
            "Epoch 53\tTop1 Train accuracy 70.19876098632812\tTop1 Test accuracy: 67.763671875\tTop5 test acc: 97.97607421875\n",
            "Epoch 54\tTop1 Train accuracy 70.18956756591797\tTop1 Test accuracy: 67.83203125\tTop5 test acc: 97.97607421875\n",
            "Epoch 55\tTop1 Train accuracy 70.49747467041016\tTop1 Test accuracy: 67.85400390625\tTop5 test acc: 98.00048828125\n",
            "Epoch 56\tTop1 Train accuracy 70.4905776977539\tTop1 Test accuracy: 67.97607421875\tTop5 test acc: 98.0126953125\n",
            "Epoch 57\tTop1 Train accuracy 70.4710464477539\tTop1 Test accuracy: 67.91259765625\tTop5 test acc: 97.98828125\n",
            "Epoch 58\tTop1 Train accuracy 70.92716217041016\tTop1 Test accuracy: 68.13720703125\tTop5 test acc: 98.037109375\n",
            "Epoch 59\tTop1 Train accuracy 70.85823059082031\tTop1 Test accuracy: 68.15185546875\tTop5 test acc: 98.02490234375\n",
            "Epoch 60\tTop1 Train accuracy 70.86971282958984\tTop1 Test accuracy: 68.15185546875\tTop5 test acc: 98.037109375\n",
            "Epoch 61\tTop1 Train accuracy 70.90877532958984\tTop1 Test accuracy: 68.2080078125\tTop5 test acc: 98.02490234375\n",
            "Epoch 62\tTop1 Train accuracy 70.86626434326172\tTop1 Test accuracy: 68.2080078125\tTop5 test acc: 98.037109375\n",
            "Epoch 63\tTop1 Train accuracy 70.89039611816406\tTop1 Test accuracy: 68.2080078125\tTop5 test acc: 98.04931640625\n",
            "Epoch 64\tTop1 Train accuracy 70.99034881591797\tTop1 Test accuracy: 68.26904296875\tTop5 test acc: 98.0615234375\n",
            "Epoch 65\tTop1 Train accuracy 71.19026184082031\tTop1 Test accuracy: 68.349609375\tTop5 test acc: 98.0615234375\n",
            "Epoch 66\tTop1 Train accuracy 71.06617736816406\tTop1 Test accuracy: 68.2080078125\tTop5 test acc: 98.07373046875\n",
            "Epoch 67\tTop1 Train accuracy 71.49011993408203\tTop1 Test accuracy: 68.369140625\tTop5 test acc: 98.0615234375\n",
            "Epoch 68\tTop1 Train accuracy 71.06157684326172\tTop1 Test accuracy: 68.35693359375\tTop5 test acc: 98.0859375\n",
            "Epoch 69\tTop1 Train accuracy 71.88993835449219\tTop1 Test accuracy: 68.447265625\tTop5 test acc: 98.0615234375\n",
            "Epoch 70\tTop1 Train accuracy 71.39591217041016\tTop1 Test accuracy: 68.57177734375\tTop5 test acc: 98.1103515625\n",
            "Epoch 71\tTop1 Train accuracy 71.68313598632812\tTop1 Test accuracy: 68.52783203125\tTop5 test acc: 98.1103515625\n",
            "Epoch 72\tTop1 Train accuracy 71.70610809326172\tTop1 Test accuracy: 68.57666015625\tTop5 test acc: 98.09814453125\n",
            "Epoch 73\tTop1 Train accuracy 71.24655151367188\tTop1 Test accuracy: 68.7548828125\tTop5 test acc: 98.1103515625\n",
            "Epoch 74\tTop1 Train accuracy 71.69117736816406\tTop1 Test accuracy: 68.61328125\tTop5 test acc: 98.1103515625\n",
            "Epoch 75\tTop1 Train accuracy 71.70381927490234\tTop1 Test accuracy: 68.6572265625\tTop5 test acc: 98.134765625\n",
            "Epoch 76\tTop1 Train accuracy 71.78883361816406\tTop1 Test accuracy: 68.8037109375\tTop5 test acc: 98.1103515625\n",
            "Epoch 77\tTop1 Train accuracy 71.78998565673828\tTop1 Test accuracy: 68.8525390625\tTop5 test acc: 98.1103515625\n",
            "Epoch 78\tTop1 Train accuracy 71.96001434326172\tTop1 Test accuracy: 68.7548828125\tTop5 test acc: 98.09814453125\n",
            "Epoch 79\tTop1 Train accuracy 71.74747467041016\tTop1 Test accuracy: 68.8037109375\tTop5 test acc: 98.12255859375\n",
            "Epoch 80\tTop1 Train accuracy 72.14498901367188\tTop1 Test accuracy: 68.857421875\tTop5 test acc: 98.14697265625\n",
            "Epoch 81\tTop1 Train accuracy 72.21622467041016\tTop1 Test accuracy: 68.88916015625\tTop5 test acc: 98.07373046875\n",
            "Epoch 82\tTop1 Train accuracy 71.80721282958984\tTop1 Test accuracy: 68.9013671875\tTop5 test acc: 98.134765625\n",
            "Epoch 83\tTop1 Train accuracy 72.3609848022461\tTop1 Test accuracy: 68.837890625\tTop5 test acc: 98.1591796875\n",
            "Epoch 84\tTop1 Train accuracy 72.31617736816406\tTop1 Test accuracy: 69.0234375\tTop5 test acc: 98.134765625\n",
            "Epoch 85\tTop1 Train accuracy 72.22311401367188\tTop1 Test accuracy: 69.0478515625\tTop5 test acc: 98.17138671875\n",
            "Epoch 86\tTop1 Train accuracy 72.52986907958984\tTop1 Test accuracy: 69.0966796875\tTop5 test acc: 98.14697265625\n",
            "Epoch 87\tTop1 Train accuracy 72.07950592041016\tTop1 Test accuracy: 69.03564453125\tTop5 test acc: 98.14697265625\n",
            "Epoch 88\tTop1 Train accuracy 72.78492736816406\tTop1 Test accuracy: 69.0283203125\tTop5 test acc: 98.14697265625\n",
            "Epoch 89\tTop1 Train accuracy 72.22771453857422\tTop1 Test accuracy: 69.15283203125\tTop5 test acc: 98.17138671875\n",
            "Epoch 90\tTop1 Train accuracy 72.5367660522461\tTop1 Test accuracy: 68.9794921875\tTop5 test acc: 98.134765625\n",
            "Epoch 91\tTop1 Train accuracy 72.96990203857422\tTop1 Test accuracy: 69.12353515625\tTop5 test acc: 98.22021484375\n",
            "Epoch 92\tTop1 Train accuracy 73.21691131591797\tTop1 Test accuracy: 69.09912109375\tTop5 test acc: 98.18359375\n",
            "Epoch 93\tTop1 Train accuracy 72.64131927490234\tTop1 Test accuracy: 69.0771484375\tTop5 test acc: 98.19580078125\n",
            "Epoch 94\tTop1 Train accuracy 73.01700592041016\tTop1 Test accuracy: 69.2578125\tTop5 test acc: 98.17138671875\n",
            "Epoch 95\tTop1 Train accuracy 72.90096282958984\tTop1 Test accuracy: 69.2333984375\tTop5 test acc: 98.21533203125\n",
            "Epoch 96\tTop1 Train accuracy 73.15142059326172\tTop1 Test accuracy: 69.19921875\tTop5 test acc: 98.18359375\n",
            "Epoch 97\tTop1 Train accuracy 72.94347381591797\tTop1 Test accuracy: 69.1845703125\tTop5 test acc: 98.19091796875\n",
            "Epoch 98\tTop1 Train accuracy 72.77229309082031\tTop1 Test accuracy: 69.2333984375\tTop5 test acc: 98.23974609375\n",
            "Epoch 99\tTop1 Train accuracy 73.00436401367188\tTop1 Test accuracy: 69.19677734375\tTop5 test acc: 98.28857421875\n"
          ]
        }
      ]
    },
    {
      "cell_type": "code",
      "metadata": {
        "id": "dtYqHZirMNZk"
      },
      "source": [
        ""
      ],
      "execution_count": null,
      "outputs": []
    }
  ]
}